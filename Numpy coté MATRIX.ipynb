{
 "cells": [
  {
   "cell_type": "markdown",
   "metadata": {},
   "source": [
    "# Exo1"
   ]
  },
  {
   "cell_type": "code",
   "execution_count": 1,
   "metadata": {},
   "outputs": [],
   "source": [
    "import numpy as np "
   ]
  },
  {
   "cell_type": "code",
   "execution_count": 2,
   "metadata": {},
   "outputs": [
    {
     "name": "stdout",
     "output_type": "stream",
     "text": [
      "[ 0  3  6  9 12 15 18 21 24 27 30 33 36 39 42 45 48 51 54 57 60 63 66 69\n",
      " 72 75 78 81 84 87 90 93 96 99]\n",
      "[ 0.00000000e+00  1.00000000e+00 -2.20436424e-15  1.00000000e+00\n",
      " -8.81745695e-15  1.00000000e+00 -4.11555602e-14  1.00000000e+00\n",
      " -3.52698278e-14  1.00000000e+00 -7.64253880e-14  1.00000000e+00\n",
      " -1.64622241e-13  1.00000000e+00 -1.86173549e-13  1.00000000e+00\n",
      " -1.41079311e-13  1.00000000e+00 -4.84086880e-13  1.00000000e+00\n",
      " -3.05701552e-13  1.00000000e+00 -6.06706795e-14  1.00000000e+00\n",
      " -6.58488964e-13  1.00000000e+00 -1.18966170e-12  1.00000000e+00\n",
      " -7.44694194e-13  1.00000000e+00 -1.14257584e-12  1.00000000e+00\n",
      " -5.64317245e-13  1.00000000e+00]\n",
      "1.0\n",
      "17\n"
     ]
    }
   ],
   "source": [
    "#1\n",
    "A=np.arange(0,100,3)\n",
    "print(A)\n",
    "#2\n",
    "B=np.sin((A**2)*(np.pi/2))\n",
    "print(B)\n",
    "#3\n",
    "C=np.max(B)\n",
    "print(C)\n",
    "#4\n",
    "D=np.sum(B == C)\n",
    "print (D)"
   ]
  },
  {
   "cell_type": "markdown",
   "metadata": {},
   "source": [
    "# Exo 2"
   ]
  },
  {
   "cell_type": "code",
   "execution_count": 3,
   "metadata": {},
   "outputs": [
    {
     "name": "stdout",
     "output_type": "stream",
     "text": [
      "[[1 0 0]\n",
      " [0 2 0]\n",
      " [0 0 3]]\n",
      "True\n",
      "True\n"
     ]
    }
   ],
   "source": [
    "import numpy as np\n",
    "M = np.array([[1,0,0],[0,2,0],[0,0,3]])\n",
    "n,p=M.shape\n",
    "print(M)\n",
    "\n",
    "#1\n",
    "def est_diagonale(M):\n",
    "    if n!= p:\n",
    "        return False\n",
    "    for i in range (n):\n",
    "        for j in range (p):\n",
    "            if i!=j and M[i,j ]!= 0:\n",
    "                return False\n",
    "    return True\n",
    "print(est_diagonale(M))\n",
    "\n",
    "#2\n",
    "def est_triangulaire_sup(M):\n",
    "    if n!= p:\n",
    "        return False\n",
    "    for i in range (n):\n",
    "        for j in range (i):\n",
    "            if M[i,j ]!= 0:\n",
    "                return False\n",
    "    return True\n",
    "print(est_triangulaire_sup(M))"
   ]
  },
  {
   "cell_type": "markdown",
   "metadata": {},
   "source": [
    "# Exo 3"
   ]
  },
  {
   "cell_type": "code",
   "execution_count": 4,
   "metadata": {},
   "outputs": [
    {
     "name": "stdout",
     "output_type": "stream",
     "text": [
      "[[1 0 0 0 0 0 0 1]\n",
      " [1 0 0 0 0 0 0 1]\n",
      " [1 0 0 0 0 0 0 1]\n",
      " [1 0 0 0 0 0 0 1]\n",
      " [1 0 0 0 0 0 0 1]\n",
      " [1 0 0 0 0 0 0 1]\n",
      " [1 0 0 0 0 0 0 1]\n",
      " [1 1 1 1 1 1 1 1]]\n",
      "[[1 0 0 0 0 0 0 1]\n",
      " [1 0 0 0 0 0 0 1]\n",
      " [1 0 0 0 0 0 0 1]\n",
      " [1 0 0 0 0 0 0 1]\n",
      " [1 0 0 0 0 0 0 1]\n",
      " [1 0 0 0 0 0 0 1]\n",
      " [1 0 0 0 0 0 0 1]\n",
      " [1 1 1 1 1 1 1 1]]\n",
      "[[1 0 0 0 0 0 0 1]\n",
      " [1 0 0 0 0 0 0 1]\n",
      " [1 0 0 0 0 0 0 1]\n",
      " [1 0 0 0 0 0 0 1]\n",
      " [1 0 0 0 0 0 0 1]\n",
      " [1 0 0 0 0 0 0 1]\n",
      " [1 0 0 0 0 0 0 1]\n",
      " [1 1 1 1 1 1 1 1]]\n",
      "[[1 0 0 0 0 0 0 1]\n",
      " [1 0 0 0 0 0 0 1]\n",
      " [1 0 0 0 0 0 0 1]\n",
      " [1 0 0 0 0 0 0 1]\n",
      " [1 0 0 0 0 0 0 1]\n",
      " [1 0 0 0 0 0 0 1]\n",
      " [1 0 0 0 0 0 0 1]\n",
      " [1 1 1 1 1 1 1 1]]\n"
     ]
    }
   ],
   "source": [
    "#Construction 1 avec boucles\n",
    "E=np.ones((8,8), dtype=int)  \n",
    "for i in range(8):\n",
    "    for j in range(8):\n",
    "         E[i,j]= 1\n",
    "E[0:-1,1:-1] = 0\n",
    "print(E)\n",
    "#Construction 2\n",
    "F = np.ones((8,8), dtype=int)\n",
    "F[0:-1,1:-1] = 0\n",
    "print(F)\n",
    "#Construction 3\n",
    "G = np.tile([[1,1],[1,1]], (4,4))\n",
    "G[0:-1,1:-1] = 0\n",
    "print(G)\n",
    "#Construction 4 bonus\n",
    "H = np.ones((8,4), dtype=int)\n",
    "I = np.ones((8,4), dtype=int)\n",
    "J = np.concatenate((H, I), axis=1)\n",
    "J[0:-1,1:-1] = 0\n",
    "print(J)"
   ]
  },
  {
   "cell_type": "markdown",
   "metadata": {},
   "source": [
    "# Exo4"
   ]
  },
  {
   "cell_type": "code",
   "execution_count": 5,
   "metadata": {},
   "outputs": [
    {
     "name": "stdout",
     "output_type": "stream",
     "text": [
      "0\n",
      "1\n",
      "3\n",
      "6\n",
      "10\n",
      "15\n",
      "21\n",
      "28\n",
      "36\n",
      "45\n",
      "55\n",
      "49.997756297\n"
     ]
    },
    {
     "name": "stderr",
     "output_type": "stream",
     "text": [
      "C:\\Users\\Dell\\Anaconda3\\lib\\site-packages\\ipykernel_launcher.py:10: DeprecationWarning: time.clock has been deprecated in Python 3.3 and will be removed from Python 3.8: use time.perf_counter or time.process_time instead\n",
      "  # Remove the CWD from sys.path while we load stuff.\n"
     ]
    }
   ],
   "source": [
    "#n=10 au lieu de n=1000000 \n",
    "#1\n",
    "n=10\n",
    "s=0\n",
    "for i in range (0,n+1):\n",
    "    s=s+i\n",
    "    print(s)\n",
    "#2\n",
    "import time\n",
    "print(time.clock())"
   ]
  },
  {
   "cell_type": "code",
   "execution_count": 6,
   "metadata": {},
   "outputs": [
    {
     "name": "stdout",
     "output_type": "stream",
     "text": [
      "[ 0  1  2  3  4  5  6  7  8  9 10]\n",
      "55\n",
      "57.790706563\n"
     ]
    },
    {
     "name": "stderr",
     "output_type": "stream",
     "text": [
      "C:\\Users\\Dell\\Anaconda3\\lib\\site-packages\\ipykernel_launcher.py:7: DeprecationWarning: time.clock has been deprecated in Python 3.3 and will be removed from Python 3.8: use time.perf_counter or time.process_time instead\n",
      "  import sys\n"
     ]
    }
   ],
   "source": [
    "#3\n",
    "b = np.arange(11)\n",
    "print(b)\n",
    "c=np.sum(b)\n",
    "print(c)\n",
    "#4\n",
    "print(time.clock())"
   ]
  },
  {
   "cell_type": "markdown",
   "metadata": {},
   "source": [
    "# Exo5"
   ]
  },
  {
   "cell_type": "code",
   "execution_count": 7,
   "metadata": {},
   "outputs": [
    {
     "name": "stdout",
     "output_type": "stream",
     "text": [
      "[[0.7295222  0.9716776  0.04743609 ... 0.51837709 0.88814172 0.35050192]\n",
      " [0.82875081 0.52690463 0.40994075 ... 0.88709347 0.15523372 0.26237218]\n",
      " [0.45109622 0.05098799 0.60107345 ... 0.36228057 0.47829376 0.14198369]\n",
      " ...\n",
      " [0.39759    0.59756585 0.22118528 ... 0.86288874 0.99777508 0.17675771]\n",
      " [0.57322139 0.72884795 0.48264676 ... 0.68426329 0.17156178 0.43151854]\n",
      " [0.34102675 0.71197065 0.17706649 ... 0.09799674 0.46069018 0.15554835]]\n"
     ]
    }
   ],
   "source": [
    "#1\n",
    "K=np.random.rand(50,50)\n",
    "print(K)\n",
    "#2 Solution non trouvée"
   ]
  },
  {
   "cell_type": "markdown",
   "metadata": {},
   "source": [
    "# Exo6"
   ]
  },
  {
   "cell_type": "code",
   "execution_count": 8,
   "metadata": {},
   "outputs": [
    {
     "name": "stdout",
     "output_type": "stream",
     "text": [
      "[[0.76553551 0.3492302  0.03713511 ... 0.34726442 0.81271312 0.50595227]\n",
      " [0.03598744 0.94205926 0.93446778 ... 0.54477285 0.68111487 0.93281003]\n",
      " [0.58210583 0.23628721 0.94132719 ... 0.13327422 0.68765567 0.17620778]\n",
      " ...\n",
      " [0.3130036  0.53112954 0.62369267 ... 0.84990346 0.27772447 0.23581089]\n",
      " [0.94358316 0.24623524 0.62026179 ... 0.17769348 0.38738524 0.4654455 ]\n",
      " [0.53220114 0.48498248 0.53416724 ... 0.95791344 0.76597256 0.51778605]]\n"
     ]
    }
   ],
   "source": [
    "import numpy as np\n",
    "#1\n",
    "K=np.random.rand(50,50)\n",
    "print(K)"
   ]
  },
  {
   "cell_type": "code",
   "execution_count": 9,
   "metadata": {},
   "outputs": [
    {
     "name": "stdout",
     "output_type": "stream",
     "text": [
      "[[False  True  True ...  True False False]\n",
      " [ True False False ... False False False]\n",
      " [False  True False ...  True False  True]\n",
      " ...\n",
      " [ True False False ... False  True  True]\n",
      " [False  True False ...  True  True  True]\n",
      " [False  True False ... False False False]]\n"
     ]
    }
   ],
   "source": [
    "#2\n",
    "f= (K<0.5)\n",
    "print(f) #Les valeurs inférieurs à 0.5 prennent True"
   ]
  },
  {
   "cell_type": "code",
   "execution_count": 10,
   "metadata": {},
   "outputs": [
    {
     "name": "stdout",
     "output_type": "stream",
     "text": [
      "1245\n"
     ]
    }
   ],
   "source": [
    "g=np.sum(f)\n",
    "print(g) #On comptabilise le nombre de True, correspondant au nombre des valeurs inférieures à 0.5"
   ]
  },
  {
   "cell_type": "code",
   "execution_count": 11,
   "metadata": {},
   "outputs": [
    {
     "name": "stdout",
     "output_type": "stream",
     "text": [
      "[[0 1 1 ... 1 0 0]\n",
      " [1 0 0 ... 0 0 0]\n",
      " [0 1 0 ... 1 0 1]\n",
      " ...\n",
      " [1 0 0 ... 0 1 1]\n",
      " [0 1 0 ... 1 1 1]\n",
      " [0 1 0 ... 0 0 0]]\n"
     ]
    }
   ],
   "source": [
    "#3\n",
    "h=f.astype(int)\n",
    "print(h) #Par défaut les True prennent des 1 et les False des 0"
   ]
  },
  {
   "cell_type": "code",
   "execution_count": 12,
   "metadata": {},
   "outputs": [
    {
     "name": "stdout",
     "output_type": "stream",
     "text": [
      "[[1 0 0 ... 0 1 1]\n",
      " [0 1 1 ... 1 1 1]\n",
      " [1 0 1 ... 0 1 0]\n",
      " ...\n",
      " [0 1 1 ... 1 0 0]\n",
      " [1 0 1 ... 0 0 0]\n",
      " [1 0 1 ... 1 1 1]]\n"
     ]
    }
   ],
   "source": [
    "ff=(K>0.5)\n",
    "hh=ff.astype(int)\n",
    "print(hh) #Les valeurs inférieures à 0.5 (True) prennent 0 et les autres (False) des 1"
   ]
  },
  {
   "cell_type": "markdown",
   "metadata": {},
   "source": [
    "# Exo7"
   ]
  },
  {
   "cell_type": "code",
   "execution_count": 13,
   "metadata": {},
   "outputs": [
    {
     "name": "stdout",
     "output_type": "stream",
     "text": [
      "[[1 2 1 1]\n",
      " [0 1 2 1]\n",
      " [1 0 1 2]\n",
      " [2 1 0 1]]\n"
     ]
    },
    {
     "data": {
      "text/plain": [
       "-4.0"
      ]
     },
     "execution_count": 13,
     "metadata": {},
     "output_type": "execute_result"
    }
   ],
   "source": [
    "#1\n",
    "a=np.array([[1,2,1,1],[0,1,2,1],[1,0,1,2],[2,1,0,1]]).reshape(4,4)\n",
    "print(a)\n",
    "np.linalg.det(a) #Déterminant de a != 0  ===> Il n'y a donc qu'une solution à ce système"
   ]
  },
  {
   "cell_type": "code",
   "execution_count": 14,
   "metadata": {},
   "outputs": [
    {
     "name": "stdout",
     "output_type": "stream",
     "text": [
      "[[-0.5]\n",
      " [ 0. ]\n",
      " [-0.5]\n",
      " [ 1. ]]\n"
     ]
    }
   ],
   "source": [
    "#2 solution\n",
    "b=np.array([0,0,1,0]).reshape(4,1)\n",
    "x=np.linalg.solve(a,b) \n",
    "print(x)"
   ]
  },
  {
   "cell_type": "code",
   "execution_count": 15,
   "metadata": {},
   "outputs": [
    {
     "name": "stdout",
     "output_type": "stream",
     "text": [
      "[[0.]\n",
      " [0.]\n",
      " [1.]\n",
      " [0.]]\n"
     ]
    }
   ],
   "source": [
    "#3: vérification du résultat en utilisant un produit matriciel\n",
    "c=a.dot(x)\n",
    "print(c)"
   ]
  },
  {
   "cell_type": "code",
   "execution_count": 16,
   "metadata": {},
   "outputs": [
    {
     "data": {
      "text/plain": [
       "True"
      ]
     },
     "execution_count": 16,
     "metadata": {},
     "output_type": "execute_result"
    }
   ],
   "source": [
    "#3\n",
    "np.allclose(np.dot(a, x), b) #vérification 2 du résultat"
   ]
  },
  {
   "cell_type": "markdown",
   "metadata": {},
   "source": [
    "# Exo 8"
   ]
  },
  {
   "cell_type": "code",
   "execution_count": 17,
   "metadata": {},
   "outputs": [
    {
     "data": {
      "text/plain": [
       "[(6, 'A'), (4, 'C'), (2, 'A'), (1, 'B'), (6, 'A'), (4, 'D')]"
      ]
     },
     "execution_count": 17,
     "metadata": {},
     "output_type": "execute_result"
    }
   ],
   "source": [
    "from itertools import groupby\n",
    "def RLEcompress(tab):\n",
    "    return [(len(list(g)),k) for k,g in groupby (tab)]\n",
    "RLEcompress(\"AAAAAACCCCAABAAAAAADDDD\")"
   ]
  },
  {
   "cell_type": "code",
   "execution_count": 18,
   "metadata": {},
   "outputs": [
    {
     "data": {
      "text/plain": [
       "'AAAAAACCCCAABAAAAAADDDD'"
      ]
     },
     "execution_count": 18,
     "metadata": {},
     "output_type": "execute_result"
    }
   ],
   "source": [
    "def RLEuncompress(list):\n",
    "    return ''.join(c * n for n,c in list)\n",
    "RLEuncompress([(6, 'A'), (4, 'C'), (2, 'A'), (1, 'B'), (6, 'A'), (4, 'D')])"
   ]
  }
 ],
 "metadata": {
  "kernelspec": {
   "display_name": "Python 3",
   "language": "python",
   "name": "python3"
  },
  "language_info": {
   "codemirror_mode": {
    "name": "ipython",
    "version": 3
   },
   "file_extension": ".py",
   "mimetype": "text/x-python",
   "name": "python",
   "nbconvert_exporter": "python",
   "pygments_lexer": "ipython3",
   "version": "3.7.0"
  }
 },
 "nbformat": 4,
 "nbformat_minor": 2
}
